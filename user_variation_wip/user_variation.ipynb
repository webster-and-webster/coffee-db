{
 "cells": [
  {
   "cell_type": "code",
   "execution_count": 2,
   "metadata": {},
   "outputs": [],
   "source": [
    "from typing import Optional, Union\n",
    "import numpy as np\n",
    "import pandas as pd\n",
    "import plotly.graph_objects as go\n",
    "import re"
   ]
  },
  {
   "cell_type": "code",
   "execution_count": 3,
   "metadata": {},
   "outputs": [],
   "source": [
    "# Using production coffee data as at 2023-06-26\n",
    "data = pd.read_csv(\"coffee_data.txt\", delimiter=\"\\t\")"
   ]
  },
  {
   "cell_type": "code",
   "execution_count": 4,
   "metadata": {},
   "outputs": [
    {
     "data": {
      "text/html": [
       "<div>\n",
       "<style scoped>\n",
       "    .dataframe tbody tr th:only-of-type {\n",
       "        vertical-align: middle;\n",
       "    }\n",
       "\n",
       "    .dataframe tbody tr th {\n",
       "        vertical-align: top;\n",
       "    }\n",
       "\n",
       "    .dataframe thead th {\n",
       "        text-align: right;\n",
       "    }\n",
       "</style>\n",
       "<table border=\"1\" class=\"dataframe\">\n",
       "  <thead>\n",
       "    <tr style=\"text-align: right;\">\n",
       "      <th></th>\n",
       "      <th>name</th>\n",
       "      <th>country_of_origin</th>\n",
       "      <th>roastery</th>\n",
       "      <th>process</th>\n",
       "      <th>varietal</th>\n",
       "      <th>elevation</th>\n",
       "      <th>tasting_notes</th>\n",
       "      <th>added_by</th>\n",
       "      <th>date_added</th>\n",
       "    </tr>\n",
       "  </thead>\n",
       "  <tbody>\n",
       "    <tr>\n",
       "      <th>0</th>\n",
       "      <td>Finca Mumuxa</td>\n",
       "      <td>Guatemala</td>\n",
       "      <td>Carrow</td>\n",
       "      <td>Washed</td>\n",
       "      <td>Catuai, Caturra</td>\n",
       "      <td>1,800</td>\n",
       "      <td>chocolate brownie, melon, stone fruit</td>\n",
       "      <td>Ned</td>\n",
       "      <td>2023-03-09 14:30:11</td>\n",
       "    </tr>\n",
       "    <tr>\n",
       "      <th>1</th>\n",
       "      <td>San Martin</td>\n",
       "      <td>Costa Rica</td>\n",
       "      <td>Blossom</td>\n",
       "      <td>Anaerobic Honey</td>\n",
       "      <td>Catuai</td>\n",
       "      <td>NaN</td>\n",
       "      <td>complex, sweet, syrupy</td>\n",
       "      <td>Ned</td>\n",
       "      <td>2023-03-13 08:21:36</td>\n",
       "    </tr>\n",
       "    <tr>\n",
       "      <th>2</th>\n",
       "      <td>Negele Gorbitu</td>\n",
       "      <td>Ethiopia</td>\n",
       "      <td>Friedhats</td>\n",
       "      <td>Anaerobic Natural</td>\n",
       "      <td>Kurume, Dega, Woshilo</td>\n",
       "      <td>2,010</td>\n",
       "      <td>strawberry, papaya, melon, roasted pineapple</td>\n",
       "      <td>Ned</td>\n",
       "      <td>2023-03-13 08:24:18</td>\n",
       "    </tr>\n",
       "  </tbody>\n",
       "</table>\n",
       "</div>"
      ],
      "text/plain": [
       "             name country_of_origin   roastery            process  \\\n",
       "0    Finca Mumuxa         Guatemala     Carrow             Washed   \n",
       "1      San Martin        Costa Rica    Blossom    Anaerobic Honey   \n",
       "2  Negele Gorbitu          Ethiopia  Friedhats  Anaerobic Natural   \n",
       "\n",
       "                varietal elevation  \\\n",
       "0        Catuai, Caturra     1,800   \n",
       "1                 Catuai       NaN   \n",
       "2  Kurume, Dega, Woshilo     2,010   \n",
       "\n",
       "                                  tasting_notes added_by           date_added  \n",
       "0         chocolate brownie, melon, stone fruit      Ned  2023-03-09 14:30:11  \n",
       "1                        complex, sweet, syrupy      Ned  2023-03-13 08:21:36  \n",
       "2  strawberry, papaya, melon, roasted pineapple      Ned  2023-03-13 08:24:18  "
      ]
     },
     "execution_count": 4,
     "metadata": {},
     "output_type": "execute_result"
    }
   ],
   "source": [
    "data[:3]"
   ]
  },
  {
   "cell_type": "code",
   "execution_count": 5,
   "metadata": {},
   "outputs": [],
   "source": [
    "# Some tidying of variables\n",
    "data.elevation = data.elevation.str.replace(\",\", \"\").astype(float)\n",
    "data.tasting_notes = data.tasting_notes.str.split(pat=\", \")\n",
    "data.varietal = data.varietal.str.split(pat=\", \")"
   ]
  },
  {
   "cell_type": "code",
   "execution_count": 9,
   "metadata": {},
   "outputs": [
    {
     "data": {
      "application/vnd.plotly.v1+json": {
       "config": {
        "plotlyServerURL": "https://plot.ly"
       },
       "data": [
        {
         "fill": "toself",
         "name": "Ned",
         "r": [
          0.85,
          1.32,
          1.31,
          1,
          1.59,
          1.38,
          1.19,
          1
         ],
         "theta": [
          "Elevation",
          "Tasting Notes",
          "Varietal",
          "Name",
          "Country Of Origin",
          "Roastery",
          "Process",
          "Date Added"
         ],
         "type": "scatterpolar"
        },
        {
         "fill": "toself",
         "name": "Roland",
         "r": [
          1.1,
          1.12,
          1.27,
          1,
          1.19,
          0.75,
          1.19,
          1
         ],
         "theta": [
          "Elevation",
          "Tasting Notes",
          "Varietal",
          "Name",
          "Country Of Origin",
          "Roastery",
          "Process",
          "Date Added"
         ],
         "type": "scatterpolar"
        },
        {
         "fill": "toself",
         "name": "Tom",
         "r": [
          0.54,
          1.26,
          1.96,
          1,
          2.58,
          1.31,
          1.55,
          1
         ],
         "theta": [
          "Elevation",
          "Tasting Notes",
          "Varietal",
          "Name",
          "Country Of Origin",
          "Roastery",
          "Process",
          "Date Added"
         ],
         "type": "scatterpolar"
        }
       ],
       "layout": {
        "polar": {
         "radialaxis": {
          "visible": false
         }
        },
        "showlegend": true,
        "template": {
         "data": {
          "bar": [
           {
            "error_x": {
             "color": "#2a3f5f"
            },
            "error_y": {
             "color": "#2a3f5f"
            },
            "marker": {
             "line": {
              "color": "#E5ECF6",
              "width": 0.5
             },
             "pattern": {
              "fillmode": "overlay",
              "size": 10,
              "solidity": 0.2
             }
            },
            "type": "bar"
           }
          ],
          "barpolar": [
           {
            "marker": {
             "line": {
              "color": "#E5ECF6",
              "width": 0.5
             },
             "pattern": {
              "fillmode": "overlay",
              "size": 10,
              "solidity": 0.2
             }
            },
            "type": "barpolar"
           }
          ],
          "carpet": [
           {
            "aaxis": {
             "endlinecolor": "#2a3f5f",
             "gridcolor": "white",
             "linecolor": "white",
             "minorgridcolor": "white",
             "startlinecolor": "#2a3f5f"
            },
            "baxis": {
             "endlinecolor": "#2a3f5f",
             "gridcolor": "white",
             "linecolor": "white",
             "minorgridcolor": "white",
             "startlinecolor": "#2a3f5f"
            },
            "type": "carpet"
           }
          ],
          "choropleth": [
           {
            "colorbar": {
             "outlinewidth": 0,
             "ticks": ""
            },
            "type": "choropleth"
           }
          ],
          "contour": [
           {
            "colorbar": {
             "outlinewidth": 0,
             "ticks": ""
            },
            "colorscale": [
             [
              0,
              "#0d0887"
             ],
             [
              0.1111111111111111,
              "#46039f"
             ],
             [
              0.2222222222222222,
              "#7201a8"
             ],
             [
              0.3333333333333333,
              "#9c179e"
             ],
             [
              0.4444444444444444,
              "#bd3786"
             ],
             [
              0.5555555555555556,
              "#d8576b"
             ],
             [
              0.6666666666666666,
              "#ed7953"
             ],
             [
              0.7777777777777778,
              "#fb9f3a"
             ],
             [
              0.8888888888888888,
              "#fdca26"
             ],
             [
              1,
              "#f0f921"
             ]
            ],
            "type": "contour"
           }
          ],
          "contourcarpet": [
           {
            "colorbar": {
             "outlinewidth": 0,
             "ticks": ""
            },
            "type": "contourcarpet"
           }
          ],
          "heatmap": [
           {
            "colorbar": {
             "outlinewidth": 0,
             "ticks": ""
            },
            "colorscale": [
             [
              0,
              "#0d0887"
             ],
             [
              0.1111111111111111,
              "#46039f"
             ],
             [
              0.2222222222222222,
              "#7201a8"
             ],
             [
              0.3333333333333333,
              "#9c179e"
             ],
             [
              0.4444444444444444,
              "#bd3786"
             ],
             [
              0.5555555555555556,
              "#d8576b"
             ],
             [
              0.6666666666666666,
              "#ed7953"
             ],
             [
              0.7777777777777778,
              "#fb9f3a"
             ],
             [
              0.8888888888888888,
              "#fdca26"
             ],
             [
              1,
              "#f0f921"
             ]
            ],
            "type": "heatmap"
           }
          ],
          "heatmapgl": [
           {
            "colorbar": {
             "outlinewidth": 0,
             "ticks": ""
            },
            "colorscale": [
             [
              0,
              "#0d0887"
             ],
             [
              0.1111111111111111,
              "#46039f"
             ],
             [
              0.2222222222222222,
              "#7201a8"
             ],
             [
              0.3333333333333333,
              "#9c179e"
             ],
             [
              0.4444444444444444,
              "#bd3786"
             ],
             [
              0.5555555555555556,
              "#d8576b"
             ],
             [
              0.6666666666666666,
              "#ed7953"
             ],
             [
              0.7777777777777778,
              "#fb9f3a"
             ],
             [
              0.8888888888888888,
              "#fdca26"
             ],
             [
              1,
              "#f0f921"
             ]
            ],
            "type": "heatmapgl"
           }
          ],
          "histogram": [
           {
            "marker": {
             "pattern": {
              "fillmode": "overlay",
              "size": 10,
              "solidity": 0.2
             }
            },
            "type": "histogram"
           }
          ],
          "histogram2d": [
           {
            "colorbar": {
             "outlinewidth": 0,
             "ticks": ""
            },
            "colorscale": [
             [
              0,
              "#0d0887"
             ],
             [
              0.1111111111111111,
              "#46039f"
             ],
             [
              0.2222222222222222,
              "#7201a8"
             ],
             [
              0.3333333333333333,
              "#9c179e"
             ],
             [
              0.4444444444444444,
              "#bd3786"
             ],
             [
              0.5555555555555556,
              "#d8576b"
             ],
             [
              0.6666666666666666,
              "#ed7953"
             ],
             [
              0.7777777777777778,
              "#fb9f3a"
             ],
             [
              0.8888888888888888,
              "#fdca26"
             ],
             [
              1,
              "#f0f921"
             ]
            ],
            "type": "histogram2d"
           }
          ],
          "histogram2dcontour": [
           {
            "colorbar": {
             "outlinewidth": 0,
             "ticks": ""
            },
            "colorscale": [
             [
              0,
              "#0d0887"
             ],
             [
              0.1111111111111111,
              "#46039f"
             ],
             [
              0.2222222222222222,
              "#7201a8"
             ],
             [
              0.3333333333333333,
              "#9c179e"
             ],
             [
              0.4444444444444444,
              "#bd3786"
             ],
             [
              0.5555555555555556,
              "#d8576b"
             ],
             [
              0.6666666666666666,
              "#ed7953"
             ],
             [
              0.7777777777777778,
              "#fb9f3a"
             ],
             [
              0.8888888888888888,
              "#fdca26"
             ],
             [
              1,
              "#f0f921"
             ]
            ],
            "type": "histogram2dcontour"
           }
          ],
          "mesh3d": [
           {
            "colorbar": {
             "outlinewidth": 0,
             "ticks": ""
            },
            "type": "mesh3d"
           }
          ],
          "parcoords": [
           {
            "line": {
             "colorbar": {
              "outlinewidth": 0,
              "ticks": ""
             }
            },
            "type": "parcoords"
           }
          ],
          "pie": [
           {
            "automargin": true,
            "type": "pie"
           }
          ],
          "scatter": [
           {
            "fillpattern": {
             "fillmode": "overlay",
             "size": 10,
             "solidity": 0.2
            },
            "type": "scatter"
           }
          ],
          "scatter3d": [
           {
            "line": {
             "colorbar": {
              "outlinewidth": 0,
              "ticks": ""
             }
            },
            "marker": {
             "colorbar": {
              "outlinewidth": 0,
              "ticks": ""
             }
            },
            "type": "scatter3d"
           }
          ],
          "scattercarpet": [
           {
            "marker": {
             "colorbar": {
              "outlinewidth": 0,
              "ticks": ""
             }
            },
            "type": "scattercarpet"
           }
          ],
          "scattergeo": [
           {
            "marker": {
             "colorbar": {
              "outlinewidth": 0,
              "ticks": ""
             }
            },
            "type": "scattergeo"
           }
          ],
          "scattergl": [
           {
            "marker": {
             "colorbar": {
              "outlinewidth": 0,
              "ticks": ""
             }
            },
            "type": "scattergl"
           }
          ],
          "scattermapbox": [
           {
            "marker": {
             "colorbar": {
              "outlinewidth": 0,
              "ticks": ""
             }
            },
            "type": "scattermapbox"
           }
          ],
          "scatterpolar": [
           {
            "marker": {
             "colorbar": {
              "outlinewidth": 0,
              "ticks": ""
             }
            },
            "type": "scatterpolar"
           }
          ],
          "scatterpolargl": [
           {
            "marker": {
             "colorbar": {
              "outlinewidth": 0,
              "ticks": ""
             }
            },
            "type": "scatterpolargl"
           }
          ],
          "scatterternary": [
           {
            "marker": {
             "colorbar": {
              "outlinewidth": 0,
              "ticks": ""
             }
            },
            "type": "scatterternary"
           }
          ],
          "surface": [
           {
            "colorbar": {
             "outlinewidth": 0,
             "ticks": ""
            },
            "colorscale": [
             [
              0,
              "#0d0887"
             ],
             [
              0.1111111111111111,
              "#46039f"
             ],
             [
              0.2222222222222222,
              "#7201a8"
             ],
             [
              0.3333333333333333,
              "#9c179e"
             ],
             [
              0.4444444444444444,
              "#bd3786"
             ],
             [
              0.5555555555555556,
              "#d8576b"
             ],
             [
              0.6666666666666666,
              "#ed7953"
             ],
             [
              0.7777777777777778,
              "#fb9f3a"
             ],
             [
              0.8888888888888888,
              "#fdca26"
             ],
             [
              1,
              "#f0f921"
             ]
            ],
            "type": "surface"
           }
          ],
          "table": [
           {
            "cells": {
             "fill": {
              "color": "#EBF0F8"
             },
             "line": {
              "color": "white"
             }
            },
            "header": {
             "fill": {
              "color": "#C8D4E3"
             },
             "line": {
              "color": "white"
             }
            },
            "type": "table"
           }
          ]
         },
         "layout": {
          "annotationdefaults": {
           "arrowcolor": "#2a3f5f",
           "arrowhead": 0,
           "arrowwidth": 1
          },
          "autotypenumbers": "strict",
          "coloraxis": {
           "colorbar": {
            "outlinewidth": 0,
            "ticks": ""
           }
          },
          "colorscale": {
           "diverging": [
            [
             0,
             "#8e0152"
            ],
            [
             0.1,
             "#c51b7d"
            ],
            [
             0.2,
             "#de77ae"
            ],
            [
             0.3,
             "#f1b6da"
            ],
            [
             0.4,
             "#fde0ef"
            ],
            [
             0.5,
             "#f7f7f7"
            ],
            [
             0.6,
             "#e6f5d0"
            ],
            [
             0.7,
             "#b8e186"
            ],
            [
             0.8,
             "#7fbc41"
            ],
            [
             0.9,
             "#4d9221"
            ],
            [
             1,
             "#276419"
            ]
           ],
           "sequential": [
            [
             0,
             "#0d0887"
            ],
            [
             0.1111111111111111,
             "#46039f"
            ],
            [
             0.2222222222222222,
             "#7201a8"
            ],
            [
             0.3333333333333333,
             "#9c179e"
            ],
            [
             0.4444444444444444,
             "#bd3786"
            ],
            [
             0.5555555555555556,
             "#d8576b"
            ],
            [
             0.6666666666666666,
             "#ed7953"
            ],
            [
             0.7777777777777778,
             "#fb9f3a"
            ],
            [
             0.8888888888888888,
             "#fdca26"
            ],
            [
             1,
             "#f0f921"
            ]
           ],
           "sequentialminus": [
            [
             0,
             "#0d0887"
            ],
            [
             0.1111111111111111,
             "#46039f"
            ],
            [
             0.2222222222222222,
             "#7201a8"
            ],
            [
             0.3333333333333333,
             "#9c179e"
            ],
            [
             0.4444444444444444,
             "#bd3786"
            ],
            [
             0.5555555555555556,
             "#d8576b"
            ],
            [
             0.6666666666666666,
             "#ed7953"
            ],
            [
             0.7777777777777778,
             "#fb9f3a"
            ],
            [
             0.8888888888888888,
             "#fdca26"
            ],
            [
             1,
             "#f0f921"
            ]
           ]
          },
          "colorway": [
           "#636efa",
           "#EF553B",
           "#00cc96",
           "#ab63fa",
           "#FFA15A",
           "#19d3f3",
           "#FF6692",
           "#B6E880",
           "#FF97FF",
           "#FECB52"
          ],
          "font": {
           "color": "#2a3f5f"
          },
          "geo": {
           "bgcolor": "white",
           "lakecolor": "white",
           "landcolor": "#E5ECF6",
           "showlakes": true,
           "showland": true,
           "subunitcolor": "white"
          },
          "hoverlabel": {
           "align": "left"
          },
          "hovermode": "closest",
          "mapbox": {
           "style": "light"
          },
          "paper_bgcolor": "white",
          "plot_bgcolor": "#E5ECF6",
          "polar": {
           "angularaxis": {
            "gridcolor": "white",
            "linecolor": "white",
            "ticks": ""
           },
           "bgcolor": "#E5ECF6",
           "radialaxis": {
            "gridcolor": "white",
            "linecolor": "white",
            "ticks": ""
           }
          },
          "scene": {
           "xaxis": {
            "backgroundcolor": "#E5ECF6",
            "gridcolor": "white",
            "gridwidth": 2,
            "linecolor": "white",
            "showbackground": true,
            "ticks": "",
            "zerolinecolor": "white"
           },
           "yaxis": {
            "backgroundcolor": "#E5ECF6",
            "gridcolor": "white",
            "gridwidth": 2,
            "linecolor": "white",
            "showbackground": true,
            "ticks": "",
            "zerolinecolor": "white"
           },
           "zaxis": {
            "backgroundcolor": "#E5ECF6",
            "gridcolor": "white",
            "gridwidth": 2,
            "linecolor": "white",
            "showbackground": true,
            "ticks": "",
            "zerolinecolor": "white"
           }
          },
          "shapedefaults": {
           "line": {
            "color": "#2a3f5f"
           }
          },
          "ternary": {
           "aaxis": {
            "gridcolor": "white",
            "linecolor": "white",
            "ticks": ""
           },
           "baxis": {
            "gridcolor": "white",
            "linecolor": "white",
            "ticks": ""
           },
           "bgcolor": "#E5ECF6",
           "caxis": {
            "gridcolor": "white",
            "linecolor": "white",
            "ticks": ""
           }
          },
          "title": {
           "x": 0.05
          },
          "xaxis": {
           "automargin": true,
           "gridcolor": "white",
           "linecolor": "white",
           "ticks": "",
           "title": {
            "standoff": 15
           },
           "zerolinecolor": "white",
           "zerolinewidth": 2
          },
          "yaxis": {
           "automargin": true,
           "gridcolor": "white",
           "linecolor": "white",
           "ticks": "",
           "title": {
            "standoff": 15
           },
           "zerolinecolor": "white",
           "zerolinewidth": 2
          }
         }
        },
        "title": {
         "text": "Coffee User Variation"
        }
       }
      }
     },
     "metadata": {},
     "output_type": "display_data"
    }
   ],
   "source": [
    "class VariationCalculator:\n",
    "\n",
    "    def __init__(self, df: pd.DataFrame, entity_col: str, variation_functions: Optional[dict] = None):\n",
    "        \"\"\"\n",
    "        Class for calculating variation rankings for users.\n",
    "        \"\"\"\n",
    "        self.df = df\n",
    "        self.entity_col = entity_col\n",
    "        self.variation_functions = variation_functions\n",
    "        if self.variation_functions is None:\n",
    "            self.variation_functions = {}\n",
    "        for attribute in [column for column in self.df.columns if column != self.entity_col]:\n",
    "            if self.variation_functions.get(attribute, None) is None:\n",
    "                self.variation_functions[attribute] = self.unique_value_ratio\n",
    "\n",
    "        for attribute in self.variation_functions.keys():\n",
    "            if attribute not in self.df.columns:\n",
    "                raise ValueError(f\"Unknown attribute '{attribute}' supplied in index_calcs.\")\n",
    "\n",
    "    def unique_value_ratio(self, X):\n",
    "        \"\"\"\n",
    "        Default method for calculating variation of an attribute. Compares the number\n",
    "        of unique values against the total number of values.\n",
    "        \"\"\"\n",
    "        return len(set(X)) / len(X)\n",
    "\n",
    "    def get_attribute_variation(self, attribute):\n",
    "        \"\"\"\n",
    "        Returns a variation index for each person for a given attribute.\n",
    "\n",
    "        Returns\n",
    "        -------\n",
    "        dict\n",
    "            A dictionary with the variation index (values) for each person (keys)\n",
    "            in the input data.\n",
    "        \"\"\"\n",
    "        if attribute not in self.df.columns:\n",
    "            raise ValueError(f\"Attribute '{attribute}' not found in data.\")\n",
    "\n",
    "        variation = {}\n",
    "        # calculate each person's variation value\n",
    "        for person, group in data.groupby(self.entity_col):\n",
    "            variation[person] = self.variation_functions[attribute](group[attribute])\n",
    "\n",
    "        # calculate an overall variation value\n",
    "        group_variation = self.variation_functions[attribute](data[attribute])\n",
    "\n",
    "        # normalize by dividing each persons' value by the group value\n",
    "        normalized_variation = {}\n",
    "        for person, index in variation.items():\n",
    "            normalized_variation[person] = index / group_variation\n",
    "\n",
    "        return normalized_variation\n",
    "\n",
    "    def get_data_variation(self, return_df: bool = False) -> Union[dict, pd.DataFrame]:\n",
    "        \"\"\"\n",
    "        Calculate variation for all attributes\n",
    "        \"\"\"\n",
    "        variation = {}\n",
    "        for attribute in self.variation_functions.keys():\n",
    "            variation[attribute] = self.get_attribute_variation(attribute=attribute)\n",
    "        if return_df:\n",
    "            variation = pd.DataFrame(variation)\n",
    "        return variation\n",
    "\n",
    "    def plot_data_variation(self):\n",
    "        \"\"\"\n",
    "        Plot radial map of variation by user\n",
    "        \"\"\"\n",
    "        variation = self.get_data_variation(return_df=True)\n",
    "        variation.columns = [re.sub(\"_\", \" \", column).title() for column in variation.columns]\n",
    "        fig = go.Figure()\n",
    "        for entity in self.df[self.entity_col].unique():\n",
    "            fig.add_trace(go.Scatterpolar(\n",
    "                r=[round(x, 2) for x in variation.loc[entity, :].tolist()],\n",
    "                theta=variation.columns.tolist(),\n",
    "                fill='toself',\n",
    "                name=entity\n",
    "            ))\n",
    "        fig.update_layout(\n",
    "            polar=dict(\n",
    "                radialaxis=dict(\n",
    "                visible=False,\n",
    "                )),\n",
    "            showlegend=True,\n",
    "            title=\"Coffee User Variation\"\n",
    "        )\n",
    "        fig.show()\n",
    "\n",
    "\n",
    "def list_unique_ratio(X):\n",
    "    \"\"\"\n",
    "    Custom variation function to handle columns where each cell is a list.\n",
    "    \"\"\"\n",
    "    def collapse_nested_list(nested_list):\n",
    "        result = []\n",
    "        for item in nested_list:\n",
    "            if isinstance(item, list):\n",
    "                result.extend(collapse_nested_list(item))\n",
    "            else:\n",
    "                result.append(item)\n",
    "        return result\n",
    "    X_new = collapse_nested_list(X)\n",
    "    return len(set(X_new)) / len(X_new)\n",
    "\n",
    "\n",
    "dc = VariationCalculator(df=data, entity_col=\"added_by\", variation_functions={\"elevation\": np.var, \"tasting_notes\": list_unique_ratio, \"varietal\": list_unique_ratio})\n",
    "dc.get_attribute_variation(attribute=\"roastery\")\n",
    "dc.get_data_variation(return_df=True)\n",
    "dc.plot_data_variation()"
   ]
  }
 ],
 "metadata": {
  "kernelspec": {
   "display_name": "Python 3.9.6 ('venv': venv)",
   "language": "python",
   "name": "python3"
  },
  "language_info": {
   "codemirror_mode": {
    "name": "ipython",
    "version": 3
   },
   "file_extension": ".py",
   "mimetype": "text/x-python",
   "name": "python",
   "nbconvert_exporter": "python",
   "pygments_lexer": "ipython3",
   "version": "3.9.6"
  },
  "orig_nbformat": 4,
  "vscode": {
   "interpreter": {
    "hash": "11a8e6c7d820cdf060e5bb4e275e064c919b9acd49df4d00f218ff2deff2bb1d"
   }
  }
 },
 "nbformat": 4,
 "nbformat_minor": 2
}
